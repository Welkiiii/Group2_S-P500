{
 "cells": [
  {
   "cell_type": "markdown",
   "id": "35f65178",
   "metadata": {},
   "source": [
    "# Feature Engineering"
   ]
  },
  {
   "cell_type": "markdown",
   "id": "3f2f3d85",
   "metadata": {},
   "source": [
    "## Step 1: Import necessary libraries"
   ]
  },
  {
   "cell_type": "code",
   "execution_count": 36,
   "id": "b0a0fddb",
   "metadata": {},
   "outputs": [],
   "source": [
    "import pandas as pd\n",
    "import numpy as np"
   ]
  },
  {
   "cell_type": "markdown",
   "id": "90359729",
   "metadata": {},
   "source": [
    "## Step 2: Data Loading"
   ]
  },
  {
   "cell_type": "code",
   "execution_count": 37,
   "id": "299c25f5",
   "metadata": {},
   "outputs": [
    {
     "name": "stdout",
     "output_type": "stream",
     "text": [
      "<class 'pandas.core.frame.DataFrame'>\n",
      "Index: 499 entries, AAPL to AMTM\n",
      "Data columns (total 6 columns):\n",
      " #   Column             Non-Null Count  Dtype  \n",
      "---  ------             --------------  -----  \n",
      " 0   Industry           499 non-null    object \n",
      " 1   Currentprice       499 non-null    float64\n",
      " 2   City               499 non-null    object \n",
      " 3   Fulltimeemployees  490 non-null    float64\n",
      " 4   Weight             499 non-null    float64\n",
      " 5   Growth_Category    499 non-null    object \n",
      "dtypes: float64(3), object(3)\n",
      "memory usage: 27.3+ KB\n"
     ]
    }
   ],
   "source": [
    "# Load the dataset\n",
    "df = pd.read_csv(\"../Dataset/sp500_for_engineering.csv\", index_col='Symbol')\n",
    "df.info()"
   ]
  },
  {
   "cell_type": "markdown",
   "id": "937a1b18",
   "metadata": {},
   "source": [
    "## Step 3: Hanlde Missing Values"
   ]
  },
  {
   "cell_type": "code",
   "execution_count": 38,
   "id": "7065a13a",
   "metadata": {},
   "outputs": [],
   "source": [
    "# Fill missing values in 'Fulltimeemployees' column with the mean of the respective industry\n",
    "# which is better than filling with the overall mean  \n",
    " \n",
    "df['Fulltimeemployees'] = df.groupby('Industry')['Fulltimeemployees'].transform(lambda x: x.fillna(x.mean()))"
   ]
  },
  {
   "cell_type": "markdown",
   "id": "5916a4fa",
   "metadata": {},
   "source": [
    "## Step 4: Target Encoding with KFold (Leakage-safe)"
   ]
  },
  {
   "cell_type": "code",
   "execution_count": 39,
   "id": "5c6aedda",
   "metadata": {},
   "outputs": [],
   "source": [
    "def safe_target_encode(df, cat_column, target_column, n_splits=5):\n",
    "    df = df.copy()\n",
    "    encoded_column = cat_column + '_te'\n",
    "    df[encoded_column] = np.nan\n",
    "\n",
    "    kf = KFold(n_splits=n_splits, shuffle=True, random_state=42)\n",
    "\n",
    "    for train_idx, val_idx in kf.split(df):\n",
    "        train_df = df.iloc[train_idx]\n",
    "        val_df = df.iloc[val_idx]\n",
    "\n",
    "        # Compute mean target for each category from training fold\n",
    "        means = train_df.groupby(cat_column)[target_column].mean()\n",
    "\n",
    "        # Map means to validation fold\n",
    "        df.loc[df.index[val_idx], encoded_column] = val_df[cat_column].map(means)\n",
    "\n",
    "    # Fill any unknown categories with global mean\n",
    "    global_mean = df[target_column].mean()\n",
    "    df[encoded_column].fillna(global_mean, inplace=True)\n",
    "\n",
    "    return df"
   ]
  },
  {
   "cell_type": "code",
   "execution_count": 40,
   "id": "9bc3e5a9",
   "metadata": {},
   "outputs": [],
   "source": [
    "category_map = {\n",
    "    'Declining': 0,\n",
    "    'Low Growth': 1,\n",
    "    'Moderate Growth': 2,\n",
    "    'High Growth': 3,\n",
    "    'Hyper Growth': 4\n",
    "}\n",
    "df['Growth_Category_numeric'] = df['Growth_Category'].map(category_map)"
   ]
  },
  {
   "cell_type": "code",
   "execution_count": 41,
   "id": "49163ed1",
   "metadata": {},
   "outputs": [],
   "source": [
    "# Encode high-cardinality categorical variables\n",
    "df = safe_target_encode(df, 'Industry', 'Growth_Category_numeric')\n",
    "df = safe_target_encode(df, 'City', 'Growth_Category_numeric')"
   ]
  },
  {
   "cell_type": "markdown",
   "id": "3e2f6763",
   "metadata": {},
   "source": [
    "## Step 5: Log-transform numerical columns"
   ]
  },
  {
   "cell_type": "code",
   "execution_count": 42,
   "id": "11b4a7eb",
   "metadata": {},
   "outputs": [],
   "source": [
    "df['Log_Currentprice'] = np.log1p(df['Currentprice'])\n",
    "df['Log_Employees'] = np.log1p(df['Fulltimeemployees'])\n",
    "df['Price_per_employee'] = df['Currentprice'] / (df['Fulltimeemployees'] + 1)\n",
    "df['Log_PPE'] = np.log1p(df['Price_per_employee'])"
   ]
  },
  {
   "cell_type": "markdown",
   "id": "0024863b",
   "metadata": {},
   "source": [
    "## Step 6: Additional Derived Features"
   ]
  },
  {
   "cell_type": "code",
   "execution_count": 43,
   "id": "6cf03524",
   "metadata": {},
   "outputs": [],
   "source": [
    "df['Employees_per_million_usd'] = df['Fulltimeemployees'] / (df['Currentprice'] + 1)\n",
    "df['Is_large_employer'] = (df['Fulltimeemployees'] > df['Fulltimeemployees'].median()).astype(int)\n",
    "df['Is_expensive_stock'] = (df['Currentprice'] > df['Currentprice'].median()).astype(int)\n",
    "df['City_Industry_combo'] = df['City_te'] * df['Industry_te']"
   ]
  },
  {
   "cell_type": "markdown",
   "id": "53bd33cc",
   "metadata": {},
   "source": [
    "## Step 7: Save The Data"
   ]
  },
  {
   "cell_type": "code",
   "execution_count": 44,
   "id": "54f44c88",
   "metadata": {},
   "outputs": [],
   "source": [
    "df.to_csv(\"../Dataset/sp500_for_train.csv\")"
   ]
  }
 ],
 "metadata": {
  "kernelspec": {
   "display_name": "CS433",
   "language": "python",
   "name": "cs433"
  },
  "language_info": {
   "codemirror_mode": {
    "name": "ipython",
    "version": 3
   },
   "file_extension": ".py",
   "mimetype": "text/x-python",
   "name": "python",
   "nbconvert_exporter": "python",
   "pygments_lexer": "ipython3",
   "version": "3.9.18"
  }
 },
 "nbformat": 4,
 "nbformat_minor": 5
}
